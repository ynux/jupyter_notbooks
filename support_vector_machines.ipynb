{
 "cells": [
  {
   "cell_type": "markdown",
   "metadata": {},
   "source": [
    "# Support Vector Machines\n",
    "\n",
    "\n",
    "\n",
    "## Problem to solve: Do you think you can tell / heaven from hell?\n",
    "\n",
    "* supervised learning\n",
    "\n",
    "* classification of points in a space of dimension d: Find hyperplane (dimension d-1) to separate the points\n",
    "\n",
    "* More formally: \n",
    "    - input: $\\vec{x} = [x_1, x_2, \\dots , x_d] $ with label $y_1$\n",
    "    - find weights $\\vec{w} = [w_1, w_2, \\dots , w_d] $ and threshold $\\theta$ \n",
    "    - output: if $\\vec{w}\\cdot\\vec{x} > \\theta$ then +1, if $\\vec{w}\\cdot\\vec{x} < \\theta$ then -1 \n",
    "    - $\\vec{w}$ defines a hyperplane\n",
    "    \n",
    "Let's plot it: d=2. \n",
    "The \"hyperplane\" becomes a straight line seperating the differently colored points. \n"
   ]
  },
  {
   "cell_type": "code",
   "execution_count": 15,
   "metadata": {
    "collapsed": false
   },
   "outputs": [],
   "source": [
    "from lightning import Lightning\n",
    "import math\n",
    "from numpy import random, asarray, sqrt, arctan2, pi, clip, concatenate\n",
    "#from sklearn import datasets"
   ]
  },
  {
   "cell_type": "code",
   "execution_count": 16,
   "metadata": {
    "collapsed": false
   },
   "outputs": [
    {
     "data": {
      "text/html": [
       "<div style='margin-top:8px'><img src='data:image/png;base64,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' width='30px' height='35px' style='display: inline-block; padding-right: 10px'></img><span>Lightning initialized</span></div>"
      ],
      "text/plain": [
       "<IPython.core.display.HTML object>"
      ]
     },
     "metadata": {},
     "output_type": "display_data"
    },
    {
     "name": "stdout",
     "output_type": "stream",
     "text": [
      "Connected to server at http://public.lightning-viz.org\n"
     ]
    },
    {
     "data": {
      "application/javascript": [
       "(function e(t,n,r){function s(o,u){if(!n[o]){if(!t[o]){var a=typeof require==\"function\"&&require;if(!u&&a)return a(o,!0);if(i)return i(o,!0);throw new Error(\"Cannot find module '\"+o+\"'\")}var f=n[o]={exports:{}};t[o][0].call(f.exports,function(e){var n=t[o][1][e];return s(n?n:e)},f,f.exports,e,t,n,r)}return n[o].exports}var i=typeof require==\"function\"&&require;for(var o=0;o<r.length;o++)s(r[o]);return s})({1:[function(require,module,exports){\n",
       "window.lightning = window.lightning || {};\n",
       "var lightningCommMap = {};\n",
       "var IPython = window.IPython;\n",
       "\n",
       "var readCommData = function(commData, field) {\n",
       "    try {\n",
       "        return commData.content.data[field];\n",
       "    } catch (err) {\n",
       "        return;\n",
       "    }\n",
       "};\n",
       "\n",
       "\n",
       "var init_comm = function() {\n",
       "    IPython.notebook.kernel.comm_manager.register_target('lightning', function(comm, data) {\n",
       "        var id = readCommData(data, 'id');\n",
       "        lightningCommMap[id] = comm;\n",
       "    });\n",
       "\n",
       "    window.lightning.comm_map = lightningCommMap;\n",
       "}\n",
       "\n",
       "\n",
       "if(IPython && IPython.notebook) {\n",
       "\n",
       "    if(IPython.notebook.kernel) {\n",
       "        init_comm();\n",
       "    }\n",
       "\n",
       "    IPython.notebook.events.on('kernel_connected.Kernel', init_comm);\n",
       "\n",
       "}\n",
       "\n",
       "\n",
       "},{}]},{},[1])\n",
       "//# sourceMappingURL=data:application/json;base64,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\n"
      ],
      "text/plain": [
       "<IPython.core.display.Javascript object>"
      ]
     },
     "metadata": {},
     "output_type": "display_data"
    }
   ],
   "source": [
    "lgn = Lightning(ipython=True, host='http://public.lightning-viz.org')\n"
   ]
  },
  {
   "cell_type": "code",
   "execution_count": 17,
   "metadata": {
    "collapsed": false
   },
   "outputs": [
    {
     "data": {
      "text/html": [
       "<meta name=\"viewport\" content=\"width=device-width, initial-scale=1, maximum-scale=1\"/><meta http-equiv=\"X-UA-Compatible\" content=\"IE=10; IE=9; IE=8; IE=7; IE=EDGE\"/><meta charset=\"UTF-8\"/><link href=\"//fonts.googleapis.com/css?family=Open+Sans:400,700\" rel=\"stylesheet\" type=\"text/css\"/><link rel=\"stylesheet\" href=\"http://public.lightning-viz.org/css/app.css\"/><div id=\"lightning-body\" class=\"container content wrap push\"><div class=\"feed-container\"><div data-model=\"visualization\" data-model-id=\"78b9bd2b-9e80-4734-af59-8be3a9db58b8\" class=\"feed-item-container\"><div data-type=\"lightning-scatter\" data-data=\"{&quot;points&quot;:[[-0.11800595539507507,0.48684210362243224],[1.8680527388888224,-1.3245248051215623],[0.28141747857804517,-1.5764128096582728],[-0.8597354104914192,0.5808324983134714],[0.03224926947952073,3.124453156710133],[-0.2860736966152849,0.052366938507424916],[0.3235501417416809,-0.5263183534065325],[-0.997909200029435,0.6068656831637684],[-0.11500030345342599,-0.7601292537656944],[0.26162328410381847,0.47720192406993134],[2.537853441207222,1.7406483716934602],[2.9964698048108467,4.614770940732294],[2.2277443563726322,3.078264867936247],[2.8110020495832,4.543433189925219],[5.08439381699881,3.9957435775263384],[3.8690023530193596,5.736609067922586],[3.0391764856613825,1.485322519724313],[2.7510976502858933,4.471035865702746],[5.227504511751359,3.8339885728202825],[3.1210238499213903,5.161279025286566]],&quot;group&quot;:[0,0,0,0,0,0,0,0,0,0,1,1,1,1,1,1,1,1,1,1]}\" data-images=\"null\" data-options=\"{&quot;description&quot;:null,&quot;height&quot;:null,&quot;zoom&quot;:false,&quot;width&quot;:600,&quot;tooltips&quot;:true,&quot;brush&quot;:true}\" id=\"viz-78b9bd2b-9e80-4734-af59-8be3a9db58b8\" data-initialized=\"false\" class=\"feed-item\"></div></div></div></div><script>window.lightning = window.lightning || {};\n",
       "window.lightning.host = \"http://public.lightning-viz.org/\" || 'http://127.0.0.1:3000/';\n",
       "window.lightning.vizCount = (window.lightning.vizCount + 1) || 1;\n",
       "window.lightning.requiredVizTypes = window.lightning.requiredVizTypes || [];\n",
       "if(window.lightning.requiredVizTypes.indexOf(\"scatter\") === -1) {\n",
       "    window.lightning.requiredVizTypes.push(\"scatter\");\n",
       "}\n",
       "window._require = window.require;\n",
       "window.require = undefined;\n",
       "window._define = window.define;\n",
       "window.define = undefined;</script><script src=\"http://public.lightning-viz.org/js/embed.js\"></script>"
      ],
      "text/plain": [
       "<lightning.types.plots.Scatter at 0x1156c0748>"
      ]
     },
     "execution_count": 17,
     "metadata": {},
     "output_type": "execute_result"
    }
   ],
   "source": [
    "halfn = 5\n",
    "n = 2*halfn\n",
    "mean = 4\n",
    "# sample around zero\n",
    "x_1_0 = random.randn(n)\n",
    "x_2_0 = random.randn(n)\n",
    "# sample around (mean,mean)\n",
    "x_1_1 = random.randn(n) + mean\n",
    "x_2_1 = random.randn(n) + mean\n",
    "# concat both samples\n",
    "x_1 = concatenate([x_1_0,x_1_1])\n",
    "x_2 = concatenate([x_2_0,x_2_1])\n",
    "label_0 = [0] * (n)\n",
    "label_1 = [1] * (n)\n",
    "labels = concatenate([label_0,label_1])\n",
    "lgn.scatter(x_1, x_2, group=labels,  zoom=False)"
   ]
  },
  {
   "cell_type": "markdown",
   "metadata": {},
   "source": [
    "### Naive Approach:\n",
    "Find mean / median, connect with a line, draw line perpendicular at half distance. "
   ]
  },
  {
   "cell_type": "code",
   "execution_count": 19,
   "metadata": {
    "collapsed": false
   },
   "outputs": [
    {
     "data": {
      "text/html": [
       "<meta name=\"viewport\" content=\"width=device-width, initial-scale=1, maximum-scale=1\"/><meta http-equiv=\"X-UA-Compatible\" content=\"IE=10; IE=9; IE=8; IE=7; IE=EDGE\"/><meta charset=\"UTF-8\"/><link href=\"//fonts.googleapis.com/css?family=Open+Sans:400,700\" rel=\"stylesheet\" type=\"text/css\"/><link rel=\"stylesheet\" href=\"http://public.lightning-viz.org/css/app.css\"/><div id=\"lightning-body\" class=\"container content wrap push\"><div class=\"feed-container\"><div data-model=\"visualization\" data-model-id=\"ca030508-a3c2-4710-aac0-d4adbbd2919a\" class=\"feed-item-container\"><div data-type=\"lightning-scatter\" data-data=\"{&quot;points&quot;:[[-0.11800595539507507,0.48684210362243224],[1.8680527388888224,-1.3245248051215623],[0.28141747857804517,-1.5764128096582728],[-0.8597354104914192,0.5808324983134714],[0.03224926947952073,3.124453156710133],[-0.2860736966152849,0.052366938507424916],[0.3235501417416809,-0.5263183534065325],[-0.997909200029435,0.6068656831637684],[-0.11500030345342599,-0.7601292537656944],[0.26162328410381847,0.47720192406993134],[2.537853441207222,1.7406483716934602],[2.9964698048108467,4.614770940732294],[2.2277443563726322,3.078264867936247],[2.8110020495832,4.543433189925219],[5.08439381699881,3.9957435775263384],[3.8690023530193596,5.736609067922586],[3.0391764856613825,1.485322519724313],[2.7510976502858933,4.471035865702746],[5.227504511751359,3.8339885728202825],[3.1210238499213903,5.161279025286566],[-3.19740503611771,-0.025634387518493288],[0.7799130794818785,-5.232140034101999],[3.902230526196571,-1.1254710351579564],[0.042291265331339985,0.7109165764732946],[-0.1261817511718502,-0.07849300978438997],[-2.799133161722327,-2.232444027472898],[0.5322192667164117,-2.404206479066354],[2.152615094815578,-0.9042347754317998],[1.486589726111371,1.558310535981303],[-1.9151567975411177,2.6258793844739587],[9.06893721174966,6.645829655501092],[3.6826847563943073,2.0571237065152186],[1.476976358100595,5.035852860888257],[2.1218721925471558,3.70726880522141],[5.691865159621996,4.733592392264634],[5.346216819567695,5.161656012815604],[1.2360462702877357,4.731890846422959],[7.053504931784433,1.6800513867946658],[8.715532230877738,0.7608048904291946],[1.164144301984802,6.714421068036839]],&quot;group&quot;:[0,0,0,0,0,0,0,0,0,0,1,1,1,1,1,1,1,1,1,1,2,2,2,2,2,2,2,2,2,2,2,2,2,2,2,2,2,2,2,2]}\" data-images=\"null\" data-options=\"{&quot;description&quot;:null,&quot;height&quot;:null,&quot;zoom&quot;:false,&quot;width&quot;:600,&quot;tooltips&quot;:true,&quot;brush&quot;:true}\" id=\"viz-ca030508-a3c2-4710-aac0-d4adbbd2919a\" data-initialized=\"false\" class=\"feed-item\"></div></div></div></div><script>window.lightning = window.lightning || {};\n",
       "window.lightning.host = \"http://public.lightning-viz.org/\" || 'http://127.0.0.1:3000/';\n",
       "window.lightning.vizCount = (window.lightning.vizCount + 1) || 1;\n",
       "window.lightning.requiredVizTypes = window.lightning.requiredVizTypes || [];\n",
       "if(window.lightning.requiredVizTypes.indexOf(\"scatter\") === -1) {\n",
       "    window.lightning.requiredVizTypes.push(\"scatter\");\n",
       "}\n",
       "window._require = window.require;\n",
       "window.require = undefined;\n",
       "window._define = window.define;\n",
       "window.define = undefined;</script><script src=\"http://public.lightning-viz.org/js/embed.js\"></script>"
      ],
      "text/plain": [
       "<lightning.types.plots.Scatter at 0x1156a6f60>"
      ]
     },
     "execution_count": 19,
     "metadata": {},
     "output_type": "execute_result"
    }
   ],
   "source": [
    "sigma=2\n",
    "x_1_new0 = sigma*random.randn(n)\n",
    "x_1_new1 = sigma*random.randn(n) + mean\n",
    "x_2_new0 = sigma*random.randn(n)\n",
    "x_2_new1 = sigma*random.randn(n) + mean\n",
    "x_1_all = concatenate([x_1,x_1_new0,x_1_new1])\n",
    "x_2_all = concatenate([x_2,x_2_new0,x_2_new1])\n",
    "label_0 = [0] * (n)\n",
    "label_1 = [1] * (n)\n",
    "label_new = [2] * (2*n)\n",
    "labels_new = concatenate([label_0,label_1,label_new])\n",
    "\n",
    "lgn.scatter(x_1_all, x_2_all,  group=labels_new, zoom=False)"
   ]
  },
  {
   "cell_type": "markdown",
   "metadata": {},
   "source": [
    "## perceptrons \n",
    "\n",
    "*  But we know how to do that already, we learned perceptrons, right? [https://appsworks.td.teradata.com/display/BBB/13th+July+2016+%3A+Perceptron]\n",
    "\n",
    "### and their problems\n",
    "* Data is linearly separable -> doesn’t converge\n",
    "* Hyperplane found may not be the “best” - just any that separates the points\n",
    "\n",
    "## Best Hyperplane\n",
    "maximize the margin - find the broadest road between the dot clouds \n",
    "\n",
    "![title](Downloads/mmds_ch12_maximize_margin.png)\n",
    "Figure: MaxMargin\n",
    "\n",
    "Only the closest points count - \"support vectors\".\n"
   ]
  },
  {
   "cell_type": "markdown",
   "metadata": {},
   "source": [
    "## The Ng Approach : Start with the utility function\n",
    "\n",
    "(Modified from the one in logistic regression)\n",
    "\n",
    "![title](Downloads/andrew_ng_week7_video1_minute14.png)\n",
    "\n",
    "\"In case this equation looks a bit unfamiliar, this is because previously we had a minus sign ... \"\n",
    "or you didn't do the weeks 1 - 6 of the course. And aren't familiar with logistic regression etc.\n",
    "Even with this, he dedicates 19 min video to \"The Mathematics Behind the Large Margin Classifier\".\n",
    "\n",
    "But let's have a look at it.\n",
    "C is the regularization parameter. Assume for now that it is big, say, 100000. Then you really want to get the first term to zero. \n",
    "What are cost1, cost0? \n",
    "![title](Downloads/mmd_ch12_costfunction.png)\n",
    "\n",
    "\n",
    "\n",
    "\n"
   ]
  },
  {
   "cell_type": "markdown",
   "metadata": {},
   "source": [
    "Main thing is: Classify all correctly, and it's zero.\n",
    "Second term: Forces \"line to turn\" until the margin is maximized. "
   ]
  },
  {
   "cell_type": "markdown",
   "metadata": {},
   "source": [
    "## Case: Not linearly separable\n",
    "\n",
    "Transform to higher dimension, solve there, transform back\n",
    "### Problems:\n",
    "* Calculation gets expensive\n",
    "* The transformed hyperplane is crazy complex, unusable\n",
    "* Overfitting\n",
    "\n",
    "Kerneltrick helps with this - If I get this right, no calculations, much nicer hyperplane, but overfitting is still a problem.\n",
    "\n",
    "Or allow misclassification - find a balance between misclassification punishment and widest margin by chosing C.\n"
   ]
  },
  {
   "cell_type": "code",
   "execution_count": 20,
   "metadata": {
    "collapsed": false
   },
   "outputs": [
    {
     "data": {
      "text/html": [
       "<meta name=\"viewport\" content=\"width=device-width, initial-scale=1, maximum-scale=1\"/><meta http-equiv=\"X-UA-Compatible\" content=\"IE=10; IE=9; IE=8; IE=7; IE=EDGE\"/><meta charset=\"UTF-8\"/><link href=\"//fonts.googleapis.com/css?family=Open+Sans:400,700\" rel=\"stylesheet\" type=\"text/css\"/><link rel=\"stylesheet\" href=\"http://public.lightning-viz.org/css/app.css\"/><div id=\"lightning-body\" class=\"container content wrap push\"><div class=\"feed-container\"><div data-model=\"visualization\" data-model-id=\"702e9914-562d-4d67-b1b6-9a3eb368c4df\" class=\"feed-item-container\"><div data-type=\"lightning-scatter\" data-data=\"{&quot;points&quot;:[[4.35207324204203,-1.478267514517984],[2.64172026377346,1.8365941191342636],[2.8529627023285054,-1.5508854393940832],[-1.9982333663143377,1.235263020039746],[1.9669319897644346,-1.021519415077276],[0.24435647704748864,1.8526593136943483],[4.4522571185970445,-0.5334671759989332],[5.521039796765094,-0.9947540526803119],[-2.5251344953436443,-2.8806126506763445],[0.19550621726661285,0.739912669444382],[1.794280195912407,-0.4150593665919826],[3.4906852319779698,-0.016073137037929227],[3.2696504822990047,0.35148927449742673],[1.2074733315466262,-1.8007628533974476],[-0.448412164289258,0.5505922989638901],[0.592993432805265,1.6692678029731287],[-1.9740166412073183,1.0358130444874565],[3.557334569003972,2.817991565599789],[-0.9246294228230459,-1.7069770085654357],[-0.051826491644763203,-1.8880555403488581],[-2.65977779605649,1.2307744857540446],[-0.30772606284789555,0.07348328762728275],[0.8519944343087511,0.3063857815242273],[-3.1030285657745615,-0.9530973351684235],[-1.3189295758512836,3.9534534551310387],[0.25422336112590704,0.8151355919810064],[0.8397300019406017,5.15281067706267],[-4.94741217302596,0.4308712209996959],[-2.20805918705182,1.8250523139300008],[1.6053388875370722,-2.2952584634400113],[-1.221615836032897,-0.3374472579835838],[-1.9047058684741618,2.75499137357319],[-0.9210289847746498,3.219863952799105],[-0.07535830459299579,0.21055898618191254],[0.9368026491230341,-2.9705998963322013],[-0.5224720234406104,2.238592890504104],[3.1095957896662547,-0.9302871364629288],[-1.364676582283338,-0.5382367451042797],[1.966907657090108,0.15201458843334179],[1.9372242050492052,0.27802715565374886],[-0.6380265900883667,-0.04386865617711574],[-1.0303576453161796,0.3528958106948988],[-0.3756734184386379,-0.12999503920889385],[-1.9812858259911084,-0.11299350097107545],[0.5283374133491511,1.8329040448629639],[-3.8958110228754363,-0.2256377717489419],[0.2281943946266277,-0.47346772191483516],[3.0562587256035854,-0.8825093935097105],[-1.1980485220777939,-1.983760923264918],[-1.2558204082423274,2.4745521330337024],[2.8013696073685,-1.6213585741775032],[-0.8359699375004411,-2.315936377805902],[-0.9475126352230183,-1.7752411190786488],[0.6152361096984096,2.521123692572737],[4.299262559727677,2.277513313931849],[2.3048503362341664,-1.3938853268129079],[-0.8187893242127112,-3.7681423324314074],[-1.3988550288911548,1.8275234749193598],[-1.4007037624347676,-0.30911120734713604],[1.827592227106602,-0.03616492950001505],[2.1545435744744594,-2.3572991809208474],[2.5363566867155,-2.01253731617892],[1.2313228915969578,-0.2723672858354462],[1.5086872587158044,-0.6224638020392289],[-3.8508411544959795,2.746069732473696],[0.5188053318260561,0.5620241164865433],[0.7774350641478779,-1.9996464809678036],[-1.1092606276333115,2.996823263438985],[-1.006333121128473,-0.8144410637407493],[0.17651599712734184,-0.9384892628360597],[-2.605062099688683,1.3466062505920389],[-0.9551020301471486,1.2964283119809463],[0.46008075747441896,0.7078369227752838],[-1.0936893015659852,-1.252675733565262],[0.06436569222279638,-0.49112129448042885],[-2.4609207279608736,-0.8878319871709338],[3.9514421586204107,0.7280966224338346],[-0.08761565633840933,-1.7394283279982716],[1.0405119017074715,-0.8164337410423959],[-4.608754675038734,0.37014265035237237],[1.4289875446568763,-4.7484303361543745],[-0.5723541351551384,-0.7727406199110188],[2.2419587229505806,1.7062774219400414],[1.5806509956172237,3.9694261794336074],[-0.3946641631731608,1.0818855540137318],[-2.1223152187536862,1.1931979999365763],[-2.123584625428212,-1.3241874620432506],[2.4623420791948045,-0.3378297179149206],[-1.7194243066577044,1.6575907108041648],[3.546864430853298,-2.2894563058188155],[2.8985600158252747,0.25735141988526583],[-2.946539085620033,0.718767136671724],[-1.5809716477922273,0.251401652895144],[-2.0577323647050823,-1.203209078422356],[-0.791690191226381,2.1342760784929466],[-4.473497500994477,-0.23012929045810568],[2.86916988873663,-1.658205063113676],[0.21581238571582595,-2.054734652046696],[-0.19978783845611264,3.162851844138275],[-1.3243693584698926,1.2315530952415124],[2.098564971992627,-1.2875189087884467],[-0.9859979753670214,-1.2987057148806778],[0.5535811605750657,0.4058192682617864],[1.0968730766247434,1.4838175174473232],[1.3759896296065741,-1.382725937746471],[2.8316550266390648,2.5932311829285553],[-0.09376660924306773,3.542669521375786],[0.19803124915693715,0.239193781488295],[-1.14389839276055,-0.6582811003482835],[0.38142363955676967,1.723513747790017],[1.1579902341051027,-2.0420206795489593],[1.6531269564261373,0.905570844782245],[-0.821522878987166,3.5433387006814416],[-1.6005640132518306,-5.443689972992557],[-0.7939657079811324,0.6500349444941037],[5.144786199195999,-2.1705020677541085],[-2.310333657651128,-2.731248235567321],[0.06385460991723207,-2.399671433370894],[-0.7317646415579806,-2.680501780366629],[-1.6385641862936775,0.26168972729680656],[2.995803316778478,-1.25218629907966],[-1.4638569393519874,0.8195788093445425],[2.7091138743612206,-1.537075702537172],[1.7446109474305211,0.8893010831556709],[-3.550187488924529,-5.197112368630129],[3.1009774250464472,-3.064344621808505],[-1.9344276824981337,1.4111759310920111],[1.1917986015539186,0.9359655710660093],[-1.684327674748264,-2.3664695939190903],[-0.8911947287997882,3.1074850787185877],[-4.038825107496094,2.527230546333178],[-5.582354865009281,2.187674667018271],[0.7784738163887982,1.624702767368606],[-1.3990101019462204,2.706181105193782],[-0.64936329829628,-2.2240180378775882],[0.7167814565009591,-3.359161596212025],[0.8273216983174233,0.8966732492857461],[-0.24732683844450992,-1.5829534992795407],[0.2920862528437196,-0.6329574172231137],[1.3654009449690576,-0.5566451478145651],[0.5710222216931974,-1.6314862724377166],[-4.704472137800615,1.5759983882463426],[0.46308366434405657,-2.72591186739044],[-1.2315569877360326,2.08214268063498],[3.2468257360183435,-1.4220806638028558],[-0.020902052330054145,-0.15691051824595154],[2.691270395887587,1.805942764103811],[-0.8735848356714307,4.334498058446218],[1.223415526137691,1.9095001746086278],[-0.8010262158887581,-0.24763508662167547],[0.6453509127911838,-0.5380517018815592],[-1.5469518290417896,2.3344736284707293],[0.11546494294585065,0.08952953101954858],[2.355742299272629,1.3060065941842003],[-3.3318695953340716,1.3829899086701598],[0.7581536927330087,0.8142688930127083],[2.4114097364557394,-1.3859241956101673],[-0.683219699074733,1.3458798356736756],[1.8284326372468127,-0.03012396590568979],[0.6026189140963195,-1.8838624674373423],[-2.033321599920574,-2.8371878068470076],[0.27774669052046264,-0.9663341476358814],[-2.515856267247279,3.1027519140894153],[1.3835703813796758,-1.4070056512781632],[0.7741473253261889,-3.292536284785631],[0.6587974619698262,-1.3628726472359647],[1.4865487936250357,-3.368725970002141],[-2.031962089730931,-2.739927761834399],[-4.677318784508644,2.1178391819399054],[0.5444616634688464,-2.6321970492939304],[-0.8897887335847324,-1.9862657541637907],[-0.2313960162355927,2.077391269418228],[-2.2331517880308485,-2.587660005645211],[2.7630622865475227,0.12832836506204448],[1.776205373809949,-2.8430891988167737],[2.074030200778876,-2.2509984665479927],[-2.853158592836541,1.1589181234201165],[-0.9138391685772654,-4.1560815571419605],[-1.2054392331067805,0.7824769331156846],[2.752842743522806,-1.7171006981511137],[-0.8302037894830051,2.5583788026238987],[-1.1174552241295186,-4.645638423345666],[-0.7736683999806167,-2.2250299126499],[-4.092734166519535,2.600819395668345],[1.4210419813979283,2.672650392086143],[-2.7956241944162166,-2.107575685294245],[0.2159854492958737,0.5669375079974077],[1.9605941097022404,2.3989538157460575],[2.31360535329596,-1.6635918797953715],[-2.740855318267372,-3.243332590295527],[-1.4119582159844715,1.9954929695969335],[-0.7553843943562103,0.8754269005624794],[3.370634243700898,-0.1273326032660571],[-3.7283540122219785,-0.9028587099834322],[1.4224327874904505,0.883075742759082],[0.7653940875652184,1.7225001369991144],[3.533912863662948,0.052634030729047446],[0.009137035481109543,-0.7908759582420171],[-0.7272154587319914,-3.175017643692175],[-0.3302877734557417,-1.4311629156849976],[1.363559749049125,-0.6269619639831452],[-1.6701647499911887,-1.007320434370535],[1.5883840943402439,1.430600341036921],[2.0748805329778257,1.85235174821787],[2.2674409221458287,1.8024722989146085],[0.5809669380459563,1.8679061262774919],[-0.9406443429431234,0.3724133620822811],[0.8274800286265841,-0.045374733624197694],[4.1992157667809575,-0.13125526473723356],[2.21682917312658,2.602109097041156],[-1.2881149150425302,2.0662272116712783],[0.5906863861283285,3.6085824080098923],[0.614052229299671,-1.4689455206814503],[1.7936420925127181,0.6064431536614305],[-2.460436780134442,2.1863896004183085],[-3.1386676582671287,1.9701067497657705],[-0.48454888893079184,-3.4457821382102782],[-0.9861541421766117,1.0849535557577132],[0.7533192809571087,1.317604893283309],[0.9677003317653425,1.5158842417862746],[-2.2231423111032598,1.4709716181557961],[-0.6298749674291805,1.3287678135689474],[-1.3062016147431577,0.17141279618129718],[-0.834615621625684,0.2684571814295027],[1.0100590850678566,3.1859535881014707],[-0.6362830578474267,3.6320129870737374],[3.9303361123322564,-3.677065242221474],[1.1276362447456325,0.3535392500441354],[4.84483731061632,0.5922540554713807],[3.0699122035478994,-0.23777597037252024],[-2.478772898052807,1.1228139933417023],[-3.159940425797983,-0.35584143885844927],[-0.0816153799881979,-2.4973383992235516],[0.9028420831618496,0.6218748453581854],[0.48765969918791374,1.4796458543671227],[-1.6753057374199816,2.032072481695275],[-0.1705736860077969,-2.030412137361586],[-0.7606851888243975,0.18472675937066244],[-2.6177503134293105,1.119706748955742],[-1.4295230582077205,-1.9945873578966034],[-1.117439413130132,4.054746553816554],[2.3691529865522853,-3.2514854048765565],[-0.14487957346940175,1.459466325213185],[1.4501390250281831,-0.5078619030000856],[-3.787603644491579,1.8385941860712578],[-1.3201482715535826,-0.4621154453292423],[0.029222286983106593,0.7755531367836218],[1.5035239354328043,1.168422578581795],[0.07424146358813943,1.7751863927316738],[-1.2384300365863146,1.421733594910839],[-1.9964143503671856,-1.037834466183293],[0.15728219578009328,0.8003522802418862],[-0.8197211191116941,3.2924003864156997],[1.2527657371998815,2.2333664815543415],[-3.5070698780709653,1.6915202487540713],[-0.44792689429396115,-0.4289734330726402],[4.699966069802311,-0.9431418376475941],[0.9140443067919013,-1.3134138060058165],[-1.44688547670788,2.756590112782728],[-0.7870084139768395,1.2090060432105176],[-5.35585348788307,-0.6443452954267331],[-2.0890118905338326,0.9237110643315807],[0.31512287251770554,-0.8483373446505584],[0.07088950967709311,-2.515485896752671],[-1.3860456249958029,-1.9228088219637451],[0.5669161504579535,2.332932885820863],[0.16507841074919258,1.0062835045795695],[1.202094006052582,-4.444594988260497],[-2.9463816474863957,0.933896548954934],[0.14056901554495757,1.3056659659527563],[-0.15979360733174236,0.26162911009015666],[1.658041686902173,0.8529567646702858],[-2.8278130740598857,-0.6495503375345993],[0.9495396413734426,-1.7053391692110669],[-0.965324191594038,-1.953671218723695],[-0.632129377618042,-0.656518728165564],[-1.968775675590841,-0.1875899866346443],[0.9231911256957186,-1.327994454052714],[-1.3273741953594325,3.1258573844796715],[0.37294396667983215,-2.9127871266137055],[0.09199869217151506,0.5820841615869974],[-2.3144992604550163,-2.4372930061635745],[1.2862418372433082,0.9826085420008245],[-0.9985205259822449,-1.187383256336947],[0.18358293291106023,1.619245310183532],[3.3726407299485355,-0.24740733502455065],[-0.3716681580109059,-1.851645779442021],[-1.2450537379892903,-0.7215258171193742],[3.844028605778874,3.3330121513282704],[1.9195385501555238,1.0209540725816872],[-2.8734011130073718,-2.6160732113504124],[2.5714850431948277,1.8460458823184918],[-2.5317019633158186,-1.8400030651545107],[-0.6969008395863993,3.77556180999167],[1.6367864218438979,-2.1997535565857986],[-1.0075270331756887,-1.5962472533211898],[1.903723463724112,0.04760755640089167],[-0.46836971948843203,-0.6780971737794586],[1.5355865259712376,1.6839521192429587],[-0.3138479053529495,2.170993528400807]],&quot;group&quot;:[1,1,1,1,1,1,1,1,1,0,1,1,1,1,0,1,1,1,1,1,1,0,0,1,1,0,1,1,1,1,0,1,1,0,1,1,1,1,1,1,0,0,0,1,1,1,0,1,1,1,1,1,1,1,1,1,1,1,1,1,1,1,0,1,1,0,1,1,0,0,1,1,0,1,0,1,1,1,0,1,1,0,1,1,0,1,1,1,1,1,1,1,1,1,1,1,1,1,1,1,1,1,0,1,1,1,1,0,0,1,1,1,1,1,0,1,1,1,1,1,1,1,1,1,1,1,1,1,1,1,1,1,1,1,1,1,0,1,0,1,1,1,1,1,1,0,1,1,1,0,0,1,0,1,1,0,1,1,1,1,1,0,1,1,1,1,1,1,1,1,1,1,1,1,1,1,1,1,1,1,1,1,1,1,1,1,0,1,1,1,1,0,1,1,1,1,1,0,1,1,1,1,1,1,1,1,0,0,1,1,1,1,1,1,1,1,1,1,1,1,1,1,0,0,1,1,1,0,1,1,1,1,1,0,1,1,1,0,1,1,1,1,1,1,1,0,0,1,1,1,1,0,1,1,1,0,1,1,1,1,1,1,0,1,1,1,0,1,1,0,0,1,1,1,1,0,1,1,1,1,0,1,1,1,1,1,1,1,1,1,1,1,1,1,1,1,1,0,1,1]}\" data-images=\"null\" data-options=\"{&quot;description&quot;:null,&quot;height&quot;:null,&quot;zoom&quot;:false,&quot;width&quot;:600,&quot;tooltips&quot;:true,&quot;brush&quot;:true}\" id=\"viz-702e9914-562d-4d67-b1b6-9a3eb368c4df\" data-initialized=\"false\" class=\"feed-item\"></div></div></div></div><script>window.lightning = window.lightning || {};\n",
       "window.lightning.host = \"http://public.lightning-viz.org/\" || 'http://127.0.0.1:3000/';\n",
       "window.lightning.vizCount = (window.lightning.vizCount + 1) || 1;\n",
       "window.lightning.requiredVizTypes = window.lightning.requiredVizTypes || [];\n",
       "if(window.lightning.requiredVizTypes.indexOf(\"scatter\") === -1) {\n",
       "    window.lightning.requiredVizTypes.push(\"scatter\");\n",
       "}\n",
       "window._require = window.require;\n",
       "window.require = undefined;\n",
       "window._define = window.define;\n",
       "window.define = undefined;</script><script src=\"http://public.lightning-viz.org/js/embed.js\"></script>"
      ],
      "text/plain": [
       "<lightning.types.plots.Scatter at 0x11380fa20>"
      ]
     },
     "execution_count": 20,
     "metadata": {},
     "output_type": "execute_result"
    }
   ],
   "source": [
    "nl=300\n",
    "inner=2\n",
    "xnl_1 = 2*random.randn(nl)\n",
    "#print(len(x_0))\n",
    "xnl_2 = 2*random.randn(nl) \n",
    "#print(len(x))\n",
    "labels_nl=[1]*nl\n",
    "for i in range(nl):\n",
    "    if ( xnl_1[i]**2 + xnl_2[i]**2 ) < inner:\n",
    "        labels_nl[i] = 0\n",
    "\n",
    "lgn.scatter(xnl_1, xnl_2,  group=labels_nl, zoom=False)"
   ]
  },
  {
   "cell_type": "markdown",
   "metadata": {},
   "source": [
    "See this as a mountain, and cut the top.\n",
    "\n",
    "(Average would not work at all here, same point!)"
   ]
  },
  {
   "cell_type": "markdown",
   "metadata": {},
   "source": [
    "## Dirty Data ?!\n",
    "\n",
    "Remember that only the points closest to the boundary count (typically, d+1 points). What does this mean for robustness? \n",
    "Our naive approach works better here.\n"
   ]
  },
  {
   "cell_type": "markdown",
   "metadata": {},
   "source": [
    "### SVM vs Logistic Regression (Ng)\n",
    "\n",
    "* A. d dimension (number of features), n number of samples: \n",
    "d large compared to n: Use logistic regression, or SVM without kernel. Example: Spam Classification, d=10000, n=1000.\n",
    "* B. d is small, n medium sized: Use SVM with linear / Gaussian kernel\n",
    "* C. d is small, n is big: SVM would run long, find more features and back to case A\n",
    "\n",
    "linear regression and SVM without kernel are pretty similar for most combinations of d and n\n",
    "\n",
    "SVM is strong with Kernels for d<1000, n=1000 up to n=50000\n",
    "\n",
    "Or use neural network - takes some training time"
   ]
  },
  {
   "cell_type": "markdown",
   "metadata": {},
   "source": [
    "## Applications of Support-Vector Machines (Segaran)\n",
    "\n",
    "* Classifying facial expressions\n",
    "* Detecting intruders using military datasets\n",
    "* Predicting the structure of proteins from their sequences\n",
    "* Handwriting recognition\n",
    "* Determining the potential for damage during earthquakes"
   ]
  },
  {
   "cell_type": "markdown",
   "metadata": {},
   "source": [
    "## Calculation: How to find that minimum\n",
    "\n",
    "\n",
    "quadratic programming, but not well suited to large datasets because (normally) keeps all in memory. Better use gradient descent and keep data on disc. "
   ]
  },
  {
   "cell_type": "code",
   "execution_count": 21,
   "metadata": {
    "collapsed": false
   },
   "outputs": [
    {
     "data": {
      "text/plain": [
       "SVC(C=1.0, cache_size=200, class_weight=None, coef0=0.0,\n",
       "  decision_function_shape=None, degree=3, gamma='auto', kernel='rbf',\n",
       "  max_iter=-1, probability=False, random_state=None, shrinking=True,\n",
       "  tol=0.001, verbose=False)"
      ]
     },
     "execution_count": 21,
     "metadata": {},
     "output_type": "execute_result"
    }
   ],
   "source": [
    "from sklearn import svm\n",
    "#lgn.scatter(x_all, y_all,  group=labels, zoom=False)\n",
    "X = [[0,0] for x in range(2*n)]\n",
    "for i in range(2*n):\n",
    "    X[i][0]=x_1[i]\n",
    "    X[i][1]=x_2[i]\n",
    "    \n",
    "\n",
    "clf = svm.SVC()\n",
    "clf.fit(X, labels)  \n"
   ]
  },
  {
   "cell_type": "code",
   "execution_count": 22,
   "metadata": {
    "collapsed": false
   },
   "outputs": [
    {
     "data": {
      "text/plain": [
       "array([0])"
      ]
     },
     "execution_count": 22,
     "metadata": {},
     "output_type": "execute_result"
    }
   ],
   "source": [
    "clf.predict([[0, 0]])\n"
   ]
  },
  {
   "cell_type": "code",
   "execution_count": 23,
   "metadata": {
    "collapsed": false
   },
   "outputs": [
    {
     "data": {
      "text/plain": [
       "array([1])"
      ]
     },
     "execution_count": 23,
     "metadata": {},
     "output_type": "execute_result"
    }
   ],
   "source": [
    "clf.predict([[mean,mean]])"
   ]
  },
  {
   "cell_type": "code",
   "execution_count": 29,
   "metadata": {
    "collapsed": false
   },
   "outputs": [
    {
     "data": {
      "text/plain": [
       "array([0])"
      ]
     },
     "execution_count": 29,
     "metadata": {},
     "output_type": "execute_result"
    }
   ],
   "source": [
    "clf.predict([[mean/2-0.8,mean/2-0.6]])"
   ]
  },
  {
   "cell_type": "code",
   "execution_count": 30,
   "metadata": {
    "collapsed": false
   },
   "outputs": [
    {
     "name": "stdout",
     "output_type": "stream",
     "text": [
      "600\n"
     ]
    },
    {
     "data": {
      "text/plain": [
       "SVC(C=1.0, cache_size=200, class_weight=None, coef0=0.0,\n",
       "  decision_function_shape=None, degree=3, gamma='auto', kernel='rbf',\n",
       "  max_iter=-1, probability=False, random_state=None, shrinking=True,\n",
       "  tol=0.001, verbose=False)"
      ]
     },
     "execution_count": 30,
     "metadata": {},
     "output_type": "execute_result"
    }
   ],
   "source": [
    "# lgn.scatter(xnl_1, xnl_2,  group=labels_nl, zoom=False)\n",
    "print(2*nl)\n",
    "X_nl = [[0,0] for x in range(nl)]\n",
    "for i in range(nl):\n",
    "    X_nl[i][0]=xnl_1[i]\n",
    "    X_nl[i][1]=xnl_2[i]\n",
    "    \n",
    "\n",
    "clf_nl = svm.SVC()\n",
    "clf_nl.fit(X_nl, labels_nl)  "
   ]
  },
  {
   "cell_type": "code",
   "execution_count": 31,
   "metadata": {
    "collapsed": false
   },
   "outputs": [
    {
     "data": {
      "text/plain": [
       "array([0])"
      ]
     },
     "execution_count": 31,
     "metadata": {},
     "output_type": "execute_result"
    }
   ],
   "source": [
    "clf.predict([[0, 0]])"
   ]
  },
  {
   "cell_type": "code",
   "execution_count": 32,
   "metadata": {
    "collapsed": false
   },
   "outputs": [
    {
     "data": {
      "text/plain": [
       "array([1])"
      ]
     },
     "execution_count": 32,
     "metadata": {},
     "output_type": "execute_result"
    }
   ],
   "source": [
    "clf.predict([[2, 2]])"
   ]
  },
  {
   "cell_type": "markdown",
   "metadata": {
    "collapsed": true
   },
   "source": [
    "## Sources and Literature\n",
    "\n",
    "* https://de.wikipedia.org/wiki/Support_Vector_Machine \n",
    "\n",
    "* https://en.wikipedia.org/wiki/Support_vector_machine\n",
    "\n",
    "* Mining Massive Datasets, http://www.mmds.org/ , book, 12.7\n",
    "\n",
    "* Toby Segaran, Programming Collective Intelligence, chapter 9\n",
    " \n",
    "* Andrew Ng, Coursera, week 7; e.g. http://www.holehouse.org/mlclass/12_Support_Vector_Machines.html\n"
   ]
  },
  {
   "cell_type": "code",
   "execution_count": null,
   "metadata": {
    "collapsed": true
   },
   "outputs": [],
   "source": []
  }
 ],
 "metadata": {
  "kernelspec": {
   "display_name": "Python 3",
   "language": "python",
   "name": "python3"
  },
  "language_info": {
   "codemirror_mode": {
    "name": "ipython",
    "version": 3
   },
   "file_extension": ".py",
   "mimetype": "text/x-python",
   "name": "python",
   "nbconvert_exporter": "python",
   "pygments_lexer": "ipython3",
   "version": "3.4.3"
  }
 },
 "nbformat": 4,
 "nbformat_minor": 0
}
